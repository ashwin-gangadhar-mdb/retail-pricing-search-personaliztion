{
 "cells": [
  {
   "cell_type": "code",
   "execution_count": null,
   "metadata": {
    "application/vnd.databricks.v1+cell": {
     "cellMetadata": {},
     "inputWidgets": {},
     "nuid": "f5e053a1-9f13-49e1-9b1f-62896b2e5e0c",
     "showTitle": false,
     "title": ""
    }
   },
   "outputs": [],
   "source": [
    "%pip install pymongo mlflow"
   ]
  },
  {
   "cell_type": "code",
   "execution_count": null,
   "metadata": {
    "application/vnd.databricks.v1+cell": {
     "cellMetadata": {},
     "inputWidgets": {},
     "nuid": "ed0b0b31-8cc9-46a5-aa53-dea36ace9b03",
     "showTitle": false,
     "title": ""
    }
   },
   "outputs": [],
   "source": [
    "import numpy as np\n",
    "import pandas as pd\n",
    "import matplotlib.pyplot as plt\n",
    "import seaborn as sns\n",
    "import statsmodels.api as sm\n",
    "from statsmodels.formula.api import ols\n",
    "import pyspark\n",
    "from pyspark.sql import functions as F\n",
    "from pyspark.sql import types as T\n",
    "\n",
    "from datetime import datetime\n",
    "from pyspark.sql import Window, WindowSpec\n",
    "import pyspark.sql.functions as F\n",
    "import pyspark\n",
    "from pyspark import SparkContext\n",
    "from pyspark.sql import SparkSession\n",
    "conf = pyspark.SparkConf()\n",
    "from tqdm import tqdm\n",
    "tqdm.pandas()\n",
    "\n",
    "import warnings\n",
    "warnings.filterwarnings(\"ignore\")\n",
    "\n",
    "sns.set_style(\"darkgrid\")"
   ]
  },
  {
   "cell_type": "code",
   "execution_count": null,
   "metadata": {
    "application/vnd.databricks.v1+cell": {
     "cellMetadata": {},
     "inputWidgets": {},
     "nuid": "f832177d-a576-4bb2-8a66-66294eca2e6e",
     "showTitle": false,
     "title": ""
    }
   },
   "outputs": [],
   "source": [
    "from pymongo import MongoClient\n",
    "MONGO_CONN = 'mongodb+srv://<username>:<password>@retail-demo.2wqno.mongodb.net/?retryWrites=true&w=majority'\n",
    "client = MongoClient(MONGO_CONN)"
   ]
  },
  {
   "cell_type": "code",
   "execution_count": null,
   "metadata": {
    "application/vnd.databricks.v1+cell": {
     "cellMetadata": {},
     "inputWidgets": {},
     "nuid": "0142a1af-4ba6-4736-906e-aff73a29c1d6",
     "showTitle": false,
     "title": ""
    }
   },
   "outputs": [],
   "source": [
    "conf.set(\"spark.jars.packages\", \"org.mongodb.spark:mongo-spark-connector_2.12:10.1.0\")\n",
    "\n",
    "spark = SparkSession.builder \\\n",
    "        .master(\"local\") \\\n",
    "        .appName(\"pricing\") \\\n",
    "        .config(conf = conf) \\\n",
    "        .getOrCreate()"
   ]
  },
  {
   "cell_type": "code",
   "execution_count": null,
   "metadata": {
    "application/vnd.databricks.v1+cell": {
     "cellMetadata": {},
     "inputWidgets": {},
     "nuid": "7980cc14-018a-46a6-9b91-37b69f331d02",
     "showTitle": false,
     "title": ""
    }
   },
   "outputs": [],
   "source": [
    "pipeline = [\n",
    "    {\n",
    "        '$group': {\n",
    "            '_id': {\n",
    "                'product_id': '$product_id', \n",
    "                'event_date': {\n",
    "                    '$dateToString': {\n",
    "                        'format': '%Y-%m-%d', \n",
    "                        'date': {\n",
    "                            '$dateFromString': {\n",
    "                                'dateString': '$event_time'\n",
    "                            }\n",
    "                        }\n",
    "                    }\n",
    "                }\n",
    "            }, \n",
    "            'product_id': {\n",
    "                '$first': '$product_id'\n",
    "            }, \n",
    "            'event_date': {\n",
    "                '$first': {\n",
    "                    '$dateToString': {\n",
    "                        'format': '%Y-%m-%d', \n",
    "                        'date': {\n",
    "                            '$dateFromString': {\n",
    "                                'dateString': '$event_time'\n",
    "                            }\n",
    "                        }\n",
    "                    }\n",
    "                }\n",
    "            }, \n",
    "            'avg_price': {\n",
    "                '$avg': {\n",
    "                    '$toDouble': '$price'\n",
    "                }\n",
    "            }, \n",
    "            'max_price': {\n",
    "                '$max': {\n",
    "                    '$toDouble': '$price'\n",
    "                }\n",
    "            }, \n",
    "            'min_price': {\n",
    "                '$min': {\n",
    "                    '$toDouble': '$price'\n",
    "                }\n",
    "            }, \n",
    "            'total_sales': {\n",
    "                '$sum': {\n",
    "                    '$cond': [\n",
    "                        {\n",
    "                            '$in': [\n",
    "                                '$event_type', [\n",
    "                                    'view', 'cart', 'purchase'\n",
    "                                ]\n",
    "                            ]\n",
    "                        }, 1, 0\n",
    "                    ]\n",
    "                }\n",
    "            }\n",
    "        }\n",
    "    }, {\n",
    "        '$project': {\n",
    "            '_id': 0\n",
    "        }\n",
    "    }\n",
    "]\n",
    "clogs=spark.read.format(\"mongodb\").\\\n",
    "            option('spark.mongodb.connection.uri', MONGO_CONN).\\\n",
    "            option('spark.mongodb.database', \"search\").\\\n",
    "            option('spark.mongodb.collection', \"clogs\").\\\n",
    "            option('spark.mongodb.aggregation.pipeline',pipeline).\\\n",
    "            option(\"forceDeleteTempCheckpointLocation\", \"true\").load()\n",
    "display(clogs)"
   ]
  },
  {
   "cell_type": "code",
   "execution_count": null,
   "metadata": {
    "application/vnd.databricks.v1+cell": {
     "cellMetadata": {},
     "inputWidgets": {},
     "nuid": "6bda4970-5d1f-493d-a1cb-6bdd26224b2a",
     "showTitle": false,
     "title": ""
    }
   },
   "outputs": [],
   "source": [
    "windowSpec = Window.partitionBy('product_id').orderBy('event_date')\n",
    "clogs = clogs.withColumn('old_sales', F.lag(clogs['total_sales'], offset=1).over(windowSpec))\n",
    "clogs = clogs.withColumn('old_avg_price', F.lag(clogs['avg_price'], offset=1).over(windowSpec))"
   ]
  },
  {
   "cell_type": "code",
   "execution_count": null,
   "metadata": {
    "application/vnd.databricks.v1+cell": {
     "cellMetadata": {},
     "inputWidgets": {},
     "nuid": "499a5cd8-7fc1-4e1a-9d6d-67e3e541ffc6",
     "showTitle": false,
     "title": ""
    }
   },
   "outputs": [],
   "source": [
    "mapping=spark.readStream.format(\"mongodb\").\\\n",
    "            option('spark.mongodb.connection.uri', MONGO_CONN).\\\n",
    "            option('spark.mongodb.database', \"search\").\\\n",
    "            option('spark.mongodb.collection', \"mapping_n\").\\\n",
    "            option('spark.mongodb.aggregation.pipeline',[{\"$project\":{\"_id\":0}}]).\\\n",
    "            option(\"forceDeleteTempCheckpointLocation\", \"true\").load()\n",
    "clogs = clogs.join(F.broadcast(mapping),on='product_id',how='inner')"
   ]
  },
  {
   "cell_type": "code",
   "execution_count": null,
   "metadata": {
    "application/vnd.databricks.v1+cell": {
     "cellMetadata": {},
     "inputWidgets": {},
     "nuid": "51b05234-8f81-4c3b-8169-f916bac6d954",
     "showTitle": false,
     "title": ""
    }
   },
   "outputs": [],
   "source": [
    "clogs.write.format(\"mongodb\").\\\n",
    "            option('spark.mongodb.connection.uri', MONGO_CONN).\\\n",
    "            option('spark.mongodb.database', \"search\").\\\n",
    "            option('spark.mongodb.collection', \"processed_clogs_n\").\\\n",
    "            option('spark.mongodb.operationType', \"insert\").\\\n",
    "            mode('append').\\\n",
    "            save()"
   ]
  },
  {
   "cell_type": "code",
   "execution_count": null,
   "metadata": {
    "application/vnd.databricks.v1+cell": {
     "cellMetadata": {},
     "inputWidgets": {},
     "nuid": "04e45aa1-4b22-4485-a0a2-5f71c674d4da",
     "showTitle": true,
     "title": "Read From processed collection for train data"
    }
   },
   "outputs": [],
   "source": [
    "db = client['search']\n",
    "collection = db['processed_clogs_n']\n",
    "t = pd.DataFrame.from_records(collection.aggregate([{\"$sample\":{\"size\":100000}}]))"
   ]
  },
  {
   "cell_type": "code",
   "execution_count": null,
   "metadata": {
    "application/vnd.databricks.v1+cell": {
     "cellMetadata": {},
     "inputWidgets": {},
     "nuid": "9118a86d-ed9d-41f5-aa24-a9577f4eb5d3",
     "showTitle": false,
     "title": ""
    }
   },
   "outputs": [],
   "source": [
    "from scipy.optimize import fmin,fminbound\n",
    "from multiprocessing import Pool\n",
    "\n",
    "def cross_price_elasticity(qa1, qa2, pb1, pb2):\n",
    "    # qa1 = initial quantity demanded of product A\n",
    "    # qa2 = new quantity demanded of product A\n",
    "    # pb1 = initial price of product B\n",
    "    # pb2 = new price of product B\n",
    "    # Calculate the percentage change in demand of product A\n",
    "    try:\n",
    "        percent_change_demand_a = (qa2 - qa1) / ((qa1 + qa2) / 2)\n",
    "        # Calculate the percentage change in price of product B\n",
    "        percent_change_price_b = (pb2 - pb1) / ((pb1 + pb2) / 2)\n",
    "        # Calculate cross price elasticity\n",
    "        ced = percent_change_demand_a / percent_change_price_b \n",
    "        return ced\n",
    "    except:\n",
    "        return 0\n",
    "\n",
    "features = []\n",
    "price = []\n",
    "\n",
    "def optimize_price(row):\n",
    "    fn = lambda x: cross_price_elasticity(row['old_sales'],row['total_sales'] , row['old_avg_price'],x) + ((row['max_price'] - x) - 0.1)**2\n",
    "    # try:\n",
    "    #     return fminbound(fn, 1,row['max_price']*1.2)\n",
    "    # except:\n",
    "    #     return row['avg_price']\n",
    "    return fmin(fn, row['max_price'], xtol=1e-8, ftol=1e-3)[0]\n",
    "\n",
    "t['price'] = t.progress_apply(optimize_price,axis=1)\n",
    "nprice = t[t.price<0]['max_price']\n",
    "t.loc[t.price<0,'price'] = nprice\n"
   ]
  },
  {
   "cell_type": "code",
   "execution_count": null,
   "metadata": {
    "application/vnd.databricks.v1+cell": {
     "cellMetadata": {},
     "inputWidgets": {},
     "nuid": "d10c05fa-d931-4d8e-b14e-bd097bb8a2f9",
     "showTitle": false,
     "title": ""
    }
   },
   "outputs": [],
   "source": [
    "import pandas as pd\n",
    "import numpy as np\n",
    "import sklearn\n",
    "from sklearn.linear_model import LinearRegression\n",
    "from sklearn.tree import DecisionTreeRegressor\n",
    "from sklearn.neural_network import MLPClassifier\n",
    "from sklearn.ensemble import RandomForestRegressor\n",
    "from sklearn.model_selection import train_test_split\n",
    "\n",
    "X = t[[\"old_sales\", \"total_sales\", \"min_price\", \"max_price\", \"avg_price\",'old_avg_price']]\n",
    "y = t[\"price\"]\n",
    "\n",
    "# Split data into train and test sets\n",
    "X_train, X_test, y_train, y_test = train_test_split(X, y, test_size=0.01)"
   ]
  },
  {
   "cell_type": "code",
   "execution_count": null,
   "metadata": {
    "application/vnd.databricks.v1+cell": {
     "cellMetadata": {},
     "inputWidgets": {},
     "nuid": "ac3eefc6-349d-42ef-a259-b0f943a7a7cf",
     "showTitle": false,
     "title": ""
    }
   },
   "outputs": [],
   "source": [
    "import mlflow\n",
    "import mlflow\n",
    "import mlflow.sklearn\n",
    "import mlflow.pyfunc\n",
    "import mlflow.spark\n",
    "from mlflow.models.signature import infer_signature\n",
    "from mlflow.utils.environment import _mlflow_conda_env\n",
    "# init mlflow wrapper for XGB model\n",
    "class CompPriceModelWrapper(mlflow.pyfunc.PythonModel):\n",
    "    def __init__(self, model):\n",
    "        self.model = model\n",
    "\n",
    "    def predict(self,context,model_input):\n",
    "        return self.model.predict(model_input)"
   ]
  },
  {
   "cell_type": "code",
   "execution_count": null,
   "metadata": {
    "application/vnd.databricks.v1+cell": {
     "cellMetadata": {},
     "inputWidgets": {},
     "nuid": "0815a0f5-abff-4baf-b7c9-065a29abb360",
     "showTitle": false,
     "title": ""
    }
   },
   "outputs": [],
   "source": [
    "model_name = \"retail_competitive_pricing_model_1\"\n",
    "with mlflow.start_run(run_name=model_name):\n",
    "    # Create and fit a linear regression model\n",
    "    model = RandomForestRegressor(n_estimators=50)\n",
    "    model.fit(X_train, y_train)\n",
    "    wrappedModel = CompPriceModelWrapper(model)\n",
    "\n",
    "    # Log model parameters and metrics\n",
    "    mlflow.log_params(model.get_params())\n",
    "    mlflow.log_metric(\"mse\", np.mean((model.predict(X_test) - y_test) ** 2))\n",
    "    \n",
    "    # Log the model with a signature that defines the schema of the model's inputs and outputs. \n",
    "    # When the model is deployed, this signature will be used to validate inputs.\n",
    "    signature = infer_signature(X_train, wrappedModel.predict(None,X_train))\n",
    "\n",
    "    # MLflow contains utilities to create a conda environment used to serve models.\n",
    "    # The necessary dependencies are added to a conda.yaml file which is logged along with the model.\n",
    "    conda_env =  _mlflow_conda_env(\n",
    "        additional_conda_deps=None,\n",
    "        additional_pip_deps=[\"scikit-learn=={}\".format(sklearn.__version__)],\n",
    "        additional_conda_channels=None,\n",
    "    )\n",
    "    mlflow.pyfunc.log_model(model_name, python_model=wrappedModel, conda_env=conda_env, signature=signature)"
   ]
  },
  {
   "cell_type": "code",
   "execution_count": null,
   "metadata": {
    "application/vnd.databricks.v1+cell": {
     "cellMetadata": {},
     "inputWidgets": {},
     "nuid": "1d34a70a-7ead-4cb4-b1b9-21d2cafabb7c",
     "showTitle": true,
     "title": "Register trained model"
    }
   },
   "outputs": [],
   "source": [
    "run_id = mlflow.search_runs(filter_string='tags.mlflow.runName=\"retail_competitive_pricing_model_1\"').iloc[0].run_id\n",
    "model_version = mlflow.register_model(f\"runs:/{run_id}/{model_name}\", model_name)"
   ]
  },
  {
   "cell_type": "code",
   "execution_count": null,
   "metadata": {
    "application/vnd.databricks.v1+cell": {
     "cellMetadata": {},
     "inputWidgets": {},
     "nuid": "bc8eeb9a-c505-4e24-aeba-19a45780aa0d",
     "showTitle": true,
     "title": "Push to staging env"
    }
   },
   "outputs": [],
   "source": [
    "print(f\"Publishing the {model_name}-{run_id} to Staging env\")\n",
    "from mlflow.tracking import MlflowClient\n",
    "client = MlflowClient()\n",
    "client.transition_model_version_stage(name=model_name,version=model_version.version,stage=\"Staging\")"
   ]
  },
  {
   "cell_type": "code",
   "execution_count": null,
   "metadata": {
    "application/vnd.databricks.v1+cell": {
     "cellMetadata": {},
     "inputWidgets": {},
     "nuid": "b25b9ce6-cd71-4cfa-ab7e-1b32f93d308d",
     "showTitle": false,
     "title": ""
    }
   },
   "outputs": [],
   "source": [
    "X_train.columns.tolist()"
   ]
  },
  {
   "cell_type": "code",
   "execution_count": null,
   "metadata": {
    "application/vnd.databricks.v1+cell": {
     "cellMetadata": {},
     "inputWidgets": {},
     "nuid": "a92c0bdb-c58c-47ac-9aeb-33fdb6a6c0ae",
     "showTitle": false,
     "title": ""
    }
   },
   "outputs": [],
   "source": []
  }
 ],
 "metadata": {
  "application/vnd.databricks.v1+notebook": {
   "dashboards": [],
   "language": "python",
   "notebookMetadata": {},
   "notebookName": "pricing",
   "notebookOrigID": 4393054174989677,
   "widgets": {}
  },
  "language_info": {
   "name": "python"
  }
 },
 "nbformat": 4,
 "nbformat_minor": 0
}
